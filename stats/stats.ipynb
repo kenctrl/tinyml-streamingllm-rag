{
 "cells": [
  {
   "cell_type": "code",
   "execution_count": 1,
   "metadata": {},
   "outputs": [],
   "source": [
    "import plotly\n",
    "import pandas as pd\n",
    "import plotly.express as px\n",
    "import plotly.graph_objects as go\n",
    "\n",
    "CATEGORIES = [\"Writing\", \"Roleplay\", \"Reasoning\", \"Math\", \"Coding\", \"Extraction\", \"STEM\", \"Humanities\"]\n",
    "\n",
    "scores = {'coding_bench.jsonl-no-streaming-original.txt': [8.5, 8.0, 7.0, 8.5, 7.5, 1.0, 0.5, 1.0, 8.5, 2.0, 3.0, 1.0, 0.5, 1.0, 1.0, 1.0, 0.5, 0.5, 1.0, 1.0], 'coding_bench.jsonl-streaming-original.txt': [9.5, 8.5, 7.5, 5.0, 8.0, 6.0, 7.0, 7.0, 9.0, 8.0, 6.5, 5.5, 7.5, 7.0, 6.5, 5.0, 8.0, 8.5, 6.0, 6.0], 'coding_bench.jsonl-streaming-rag.txt': [9.5, 8.0, 9.0, 8.5, 7.0, 6.5, 8.0, 7.5, 6.0, 8.0, 6.5, 5.5, 7.0, 5.5, 7.5, 8.0, 7.0, 7.5, 6.0, 9.0], 'extraction_bench.jsonl-no-streaming-original.txt': [8.0, 2.0, 10.0, 9.0, 9.0, 1.0, 1.0, 1.0, 1.0, 1.0, 1.0], 'extraction_bench.jsonl-streaming-original.txt': [7.5, 3.0, 5.0, 9.0, 2.0, 5.0, 10.0, 9.0, 9.0, 9.0, 10.0, 9.0, 4.5, 6.0, 9.0, 5.0, 8.0, 4.0, 9.0, 8.0], 'extraction_bench.jsonl-streaming-rag.txt': [6.0, 5.5, 7.0, 4.5, 5.5, 5.0, 4.5, 6.5, 6.0, 6.0, 6.0, 5.0, 6.5, 7.0, 5.5, 6.5, 5.5, 5.0, 5.0, 6.0], 'humanities_bench.jsonl-no-streaming-original.txt': [8, 2.5, 8, 6, 3, 0, 0, 0, 0, 0, 0, 0, 0, 0, 0, 0, 0, 0, 0, 0], 'humanities_bench.jsonl-streaming-original.txt': [9.5, 3.0, 8.0, 9.0, 9.5, 1.0, 8.5, 9.0, 9.0, 9.5, 9.0, 9.5, 8.0, 9.0, 9.0, 8.0, 7.5, 9.0, 8.5, 8.5], 'humanities_bench.jsonl-streaming-rag.txt': [3.0, 1.0, 8.5, 9.0, 9.0, 9.0, 7.5, 8.0, 9.0, 9.5, 7.0, 2.0, 8.0, 9.5, 8.0, 10.0, 8.5, 7.5, 5.0, 7.0], 'math_bench.jsonl-no-streaming-original.txt': [2, 3, 8, 3, 8, 10, 8, 5, 2, 1, 2, 0, 1, 2, 0, 0, 0, 0, 0, 0], 'math_bench.jsonl-streaming-original.txt': [6.5, 3.0, 8.0, 2.0, 7.0, 7.5, 5.0, 4.5, 5.0, 4.0, 2.0, 3.0, 5.0, 3.5, 3.0, 2.5, 4.0, 5.0, 4.0, 4.0], 'math_bench.jsonl-streaming-rag.txt': [6.0, 5.5, 10.0, 10.0, 10.0, 7.0, 4.0, 9.0, 6.5, 7.0, 4.0, 5.5, 8.0, 9.0, 3.0, 1.0, 1.0, 7.0, 6.5, 8.0], 'reasoning_bench.jsonl-no-streaming-original.txt': [8, 7, 8, 8, 9, 6, 9, 4, 4, 8, 4, 4, 3, 1, 3, 1, 1, 2, 2, 1], 'reasoning_bench.jsonl-streaming-original.txt': [8.5, 7.0, 9.0, 9.5, 7.5, 8.0, 8.0, 8.5, 9.0, 9.5, 10.0, 8.0, 7.5, 9.0, 10.0, 9.0, 9.0, 8.5, 9.5, 10.0], 'reasoning_bench.jsonl-streaming-rag.txt': [8.0, 6.5, 8.0, 7.0, 5.0, 7.0, 8.5, 9.0, 8.0, 8.0, 6.5, 7.0, 9.0, 9.0, 8.5, 8.5, 8.5, 9.0, 9.0, 9.0], 'roleplay_bench.jsonl-no-streaming-original.txt': [8.5, 3.0, 6.0, 5.0, 5.5, 4.0, 6.0, 5.0, 7.0, 2.0, 1.5, 2.0, 4.0, 2.0, 1.0, 1.0, 1.0], 'roleplay_bench.jsonl-streaming-original.txt': [9, 5, 5, 6, 5, 7, 7.5, 8, 6, 7, 8, 8.5, 8, 10, 9, 8.5, 9, 8], 'roleplay_bench.jsonl-streaming-rag.txt': [9.5, 9.0, 8.0, 8.5, 8.0, 7.5, 8.5, 7.0, 5.0, 9.0, 7.0, 8.0, 7.5, 8.0, 8.5, 6.5, 7.0, 8.0], 'stem_bench.jsonl-no-streaming-original.txt': [6.5, 3.0, 5.0, 6.0, 5.0, 7.0, 2.0, 1.0, 1.0, 1.0, 1.0, 1.0, 1.0, 1.0, 1.0, 1.0, 1.0, 1.0, 1.0, 1.0], 'stem_bench.jsonl-streaming-original.txt': [8.5, 3.0, 2.0, 6.0, 6.0, 5.0, 7.0, 8.5, 9.0, 9.5, 10.0, 8.5, 9.0, 9.5, 8.5, 5.0, 7.0, 6.5, 8.0, 4.5], 'stem_bench.jsonl-streaming-rag.txt': [9.0, 5.0, 5.0, 5.0, 5.0, 8.0, 8.5, 5.0, 10.0, 10.0, 10.0, 3.0, 5.0, 5.0, 7.0, 7.5, 8.0, 6.0, 9.0, 4.0, 3.0, 1.0, 1.0, 1.0, 1.0, 1.0], 'writing_bench.jsonl-no-streaming-original.txt': [8.5, 3.0, 9.0, 8.0, 9.0, 8.0, 3.0, 2.0, 3.5, 4.0, 7.0, 3.0, 3.0, 3.0, 3.5, 3.5, 2.0, 2.0, 4.0, 2.0], 'writing_bench.jsonl-streaming-original.txt': [8.5, 7.0, 9.0, 8.5, 9.0, 7.5, 8.0, 9.0, 9.5, 8.0], 'writing_bench.jsonl-streaming-rag.txt': [8.5, 3.0, 9.0, 9.0, 9.5, 6.5, 9.0, 8.5, 9.0, 9.5, 9.0, 8.5, 9.0, 6.5, 9.0, 8.0, 8.0, 7.0, 8.5, 8.5]}"
   ]
  },
  {
   "cell_type": "code",
   "execution_count": 2,
   "metadata": {},
   "outputs": [
    {
     "data": {
      "application/vnd.plotly.v1+json": {
       "config": {
        "plotlyServerURL": "https://plot.ly"
       },
       "data": [
        {
         "mode": "lines+markers",
         "name": "Dense Attention",
         "r": [
          4.55,
          3.7941176470588234,
          4.65,
          2.75,
          3.15,
          4,
          2.375,
          1.375,
          4.55
         ],
         "theta": [
          "Writing",
          "Roleplay",
          "Reasoning",
          "Math",
          "Coding",
          "Extraction",
          "STEM",
          "Humanities",
          "Writing"
         ],
         "type": "scatterpolar"
        },
        {
         "mode": "lines+markers",
         "name": "StreamingLLM",
         "r": [
          8.4,
          7.472222222222222,
          8.75,
          4.425,
          7.1,
          7.05,
          7.05,
          8.1,
          8.4
         ],
         "theta": [
          "Writing",
          "Roleplay",
          "Reasoning",
          "Math",
          "Coding",
          "Extraction",
          "STEM",
          "Humanities",
          "Writing"
         ],
         "type": "scatterpolar"
        },
        {
         "mode": "lines+markers",
         "name": "StreamingRAG",
         "r": [
          8.175,
          7.805555555555555,
          7.95,
          6.4,
          7.375,
          5.725,
          5.5,
          7.3,
          8.175
         ],
         "theta": [
          "Writing",
          "Roleplay",
          "Reasoning",
          "Math",
          "Coding",
          "Extraction",
          "STEM",
          "Humanities",
          "Writing"
         ],
         "type": "scatterpolar"
        }
       ],
       "layout": {
        "polar": {
         "radialaxis": {
          "range": [
           0,
           10
          ],
          "visible": true
         }
        },
        "showlegend": true,
        "template": {
         "data": {
          "bar": [
           {
            "error_x": {
             "color": "#2a3f5f"
            },
            "error_y": {
             "color": "#2a3f5f"
            },
            "marker": {
             "line": {
              "color": "#E5ECF6",
              "width": 0.5
             },
             "pattern": {
              "fillmode": "overlay",
              "size": 10,
              "solidity": 0.2
             }
            },
            "type": "bar"
           }
          ],
          "barpolar": [
           {
            "marker": {
             "line": {
              "color": "#E5ECF6",
              "width": 0.5
             },
             "pattern": {
              "fillmode": "overlay",
              "size": 10,
              "solidity": 0.2
             }
            },
            "type": "barpolar"
           }
          ],
          "carpet": [
           {
            "aaxis": {
             "endlinecolor": "#2a3f5f",
             "gridcolor": "white",
             "linecolor": "white",
             "minorgridcolor": "white",
             "startlinecolor": "#2a3f5f"
            },
            "baxis": {
             "endlinecolor": "#2a3f5f",
             "gridcolor": "white",
             "linecolor": "white",
             "minorgridcolor": "white",
             "startlinecolor": "#2a3f5f"
            },
            "type": "carpet"
           }
          ],
          "choropleth": [
           {
            "colorbar": {
             "outlinewidth": 0,
             "ticks": ""
            },
            "type": "choropleth"
           }
          ],
          "contour": [
           {
            "colorbar": {
             "outlinewidth": 0,
             "ticks": ""
            },
            "colorscale": [
             [
              0,
              "#0d0887"
             ],
             [
              0.1111111111111111,
              "#46039f"
             ],
             [
              0.2222222222222222,
              "#7201a8"
             ],
             [
              0.3333333333333333,
              "#9c179e"
             ],
             [
              0.4444444444444444,
              "#bd3786"
             ],
             [
              0.5555555555555556,
              "#d8576b"
             ],
             [
              0.6666666666666666,
              "#ed7953"
             ],
             [
              0.7777777777777778,
              "#fb9f3a"
             ],
             [
              0.8888888888888888,
              "#fdca26"
             ],
             [
              1,
              "#f0f921"
             ]
            ],
            "type": "contour"
           }
          ],
          "contourcarpet": [
           {
            "colorbar": {
             "outlinewidth": 0,
             "ticks": ""
            },
            "type": "contourcarpet"
           }
          ],
          "heatmap": [
           {
            "colorbar": {
             "outlinewidth": 0,
             "ticks": ""
            },
            "colorscale": [
             [
              0,
              "#0d0887"
             ],
             [
              0.1111111111111111,
              "#46039f"
             ],
             [
              0.2222222222222222,
              "#7201a8"
             ],
             [
              0.3333333333333333,
              "#9c179e"
             ],
             [
              0.4444444444444444,
              "#bd3786"
             ],
             [
              0.5555555555555556,
              "#d8576b"
             ],
             [
              0.6666666666666666,
              "#ed7953"
             ],
             [
              0.7777777777777778,
              "#fb9f3a"
             ],
             [
              0.8888888888888888,
              "#fdca26"
             ],
             [
              1,
              "#f0f921"
             ]
            ],
            "type": "heatmap"
           }
          ],
          "heatmapgl": [
           {
            "colorbar": {
             "outlinewidth": 0,
             "ticks": ""
            },
            "colorscale": [
             [
              0,
              "#0d0887"
             ],
             [
              0.1111111111111111,
              "#46039f"
             ],
             [
              0.2222222222222222,
              "#7201a8"
             ],
             [
              0.3333333333333333,
              "#9c179e"
             ],
             [
              0.4444444444444444,
              "#bd3786"
             ],
             [
              0.5555555555555556,
              "#d8576b"
             ],
             [
              0.6666666666666666,
              "#ed7953"
             ],
             [
              0.7777777777777778,
              "#fb9f3a"
             ],
             [
              0.8888888888888888,
              "#fdca26"
             ],
             [
              1,
              "#f0f921"
             ]
            ],
            "type": "heatmapgl"
           }
          ],
          "histogram": [
           {
            "marker": {
             "pattern": {
              "fillmode": "overlay",
              "size": 10,
              "solidity": 0.2
             }
            },
            "type": "histogram"
           }
          ],
          "histogram2d": [
           {
            "colorbar": {
             "outlinewidth": 0,
             "ticks": ""
            },
            "colorscale": [
             [
              0,
              "#0d0887"
             ],
             [
              0.1111111111111111,
              "#46039f"
             ],
             [
              0.2222222222222222,
              "#7201a8"
             ],
             [
              0.3333333333333333,
              "#9c179e"
             ],
             [
              0.4444444444444444,
              "#bd3786"
             ],
             [
              0.5555555555555556,
              "#d8576b"
             ],
             [
              0.6666666666666666,
              "#ed7953"
             ],
             [
              0.7777777777777778,
              "#fb9f3a"
             ],
             [
              0.8888888888888888,
              "#fdca26"
             ],
             [
              1,
              "#f0f921"
             ]
            ],
            "type": "histogram2d"
           }
          ],
          "histogram2dcontour": [
           {
            "colorbar": {
             "outlinewidth": 0,
             "ticks": ""
            },
            "colorscale": [
             [
              0,
              "#0d0887"
             ],
             [
              0.1111111111111111,
              "#46039f"
             ],
             [
              0.2222222222222222,
              "#7201a8"
             ],
             [
              0.3333333333333333,
              "#9c179e"
             ],
             [
              0.4444444444444444,
              "#bd3786"
             ],
             [
              0.5555555555555556,
              "#d8576b"
             ],
             [
              0.6666666666666666,
              "#ed7953"
             ],
             [
              0.7777777777777778,
              "#fb9f3a"
             ],
             [
              0.8888888888888888,
              "#fdca26"
             ],
             [
              1,
              "#f0f921"
             ]
            ],
            "type": "histogram2dcontour"
           }
          ],
          "mesh3d": [
           {
            "colorbar": {
             "outlinewidth": 0,
             "ticks": ""
            },
            "type": "mesh3d"
           }
          ],
          "parcoords": [
           {
            "line": {
             "colorbar": {
              "outlinewidth": 0,
              "ticks": ""
             }
            },
            "type": "parcoords"
           }
          ],
          "pie": [
           {
            "automargin": true,
            "type": "pie"
           }
          ],
          "scatter": [
           {
            "fillpattern": {
             "fillmode": "overlay",
             "size": 10,
             "solidity": 0.2
            },
            "type": "scatter"
           }
          ],
          "scatter3d": [
           {
            "line": {
             "colorbar": {
              "outlinewidth": 0,
              "ticks": ""
             }
            },
            "marker": {
             "colorbar": {
              "outlinewidth": 0,
              "ticks": ""
             }
            },
            "type": "scatter3d"
           }
          ],
          "scattercarpet": [
           {
            "marker": {
             "colorbar": {
              "outlinewidth": 0,
              "ticks": ""
             }
            },
            "type": "scattercarpet"
           }
          ],
          "scattergeo": [
           {
            "marker": {
             "colorbar": {
              "outlinewidth": 0,
              "ticks": ""
             }
            },
            "type": "scattergeo"
           }
          ],
          "scattergl": [
           {
            "marker": {
             "colorbar": {
              "outlinewidth": 0,
              "ticks": ""
             }
            },
            "type": "scattergl"
           }
          ],
          "scattermapbox": [
           {
            "marker": {
             "colorbar": {
              "outlinewidth": 0,
              "ticks": ""
             }
            },
            "type": "scattermapbox"
           }
          ],
          "scatterpolar": [
           {
            "marker": {
             "colorbar": {
              "outlinewidth": 0,
              "ticks": ""
             }
            },
            "type": "scatterpolar"
           }
          ],
          "scatterpolargl": [
           {
            "marker": {
             "colorbar": {
              "outlinewidth": 0,
              "ticks": ""
             }
            },
            "type": "scatterpolargl"
           }
          ],
          "scatterternary": [
           {
            "marker": {
             "colorbar": {
              "outlinewidth": 0,
              "ticks": ""
             }
            },
            "type": "scatterternary"
           }
          ],
          "surface": [
           {
            "colorbar": {
             "outlinewidth": 0,
             "ticks": ""
            },
            "colorscale": [
             [
              0,
              "#0d0887"
             ],
             [
              0.1111111111111111,
              "#46039f"
             ],
             [
              0.2222222222222222,
              "#7201a8"
             ],
             [
              0.3333333333333333,
              "#9c179e"
             ],
             [
              0.4444444444444444,
              "#bd3786"
             ],
             [
              0.5555555555555556,
              "#d8576b"
             ],
             [
              0.6666666666666666,
              "#ed7953"
             ],
             [
              0.7777777777777778,
              "#fb9f3a"
             ],
             [
              0.8888888888888888,
              "#fdca26"
             ],
             [
              1,
              "#f0f921"
             ]
            ],
            "type": "surface"
           }
          ],
          "table": [
           {
            "cells": {
             "fill": {
              "color": "#EBF0F8"
             },
             "line": {
              "color": "white"
             }
            },
            "header": {
             "fill": {
              "color": "#C8D4E3"
             },
             "line": {
              "color": "white"
             }
            },
            "type": "table"
           }
          ]
         },
         "layout": {
          "annotationdefaults": {
           "arrowcolor": "#2a3f5f",
           "arrowhead": 0,
           "arrowwidth": 1
          },
          "autotypenumbers": "strict",
          "coloraxis": {
           "colorbar": {
            "outlinewidth": 0,
            "ticks": ""
           }
          },
          "colorscale": {
           "diverging": [
            [
             0,
             "#8e0152"
            ],
            [
             0.1,
             "#c51b7d"
            ],
            [
             0.2,
             "#de77ae"
            ],
            [
             0.3,
             "#f1b6da"
            ],
            [
             0.4,
             "#fde0ef"
            ],
            [
             0.5,
             "#f7f7f7"
            ],
            [
             0.6,
             "#e6f5d0"
            ],
            [
             0.7,
             "#b8e186"
            ],
            [
             0.8,
             "#7fbc41"
            ],
            [
             0.9,
             "#4d9221"
            ],
            [
             1,
             "#276419"
            ]
           ],
           "sequential": [
            [
             0,
             "#0d0887"
            ],
            [
             0.1111111111111111,
             "#46039f"
            ],
            [
             0.2222222222222222,
             "#7201a8"
            ],
            [
             0.3333333333333333,
             "#9c179e"
            ],
            [
             0.4444444444444444,
             "#bd3786"
            ],
            [
             0.5555555555555556,
             "#d8576b"
            ],
            [
             0.6666666666666666,
             "#ed7953"
            ],
            [
             0.7777777777777778,
             "#fb9f3a"
            ],
            [
             0.8888888888888888,
             "#fdca26"
            ],
            [
             1,
             "#f0f921"
            ]
           ],
           "sequentialminus": [
            [
             0,
             "#0d0887"
            ],
            [
             0.1111111111111111,
             "#46039f"
            ],
            [
             0.2222222222222222,
             "#7201a8"
            ],
            [
             0.3333333333333333,
             "#9c179e"
            ],
            [
             0.4444444444444444,
             "#bd3786"
            ],
            [
             0.5555555555555556,
             "#d8576b"
            ],
            [
             0.6666666666666666,
             "#ed7953"
            ],
            [
             0.7777777777777778,
             "#fb9f3a"
            ],
            [
             0.8888888888888888,
             "#fdca26"
            ],
            [
             1,
             "#f0f921"
            ]
           ]
          },
          "colorway": [
           "#636efa",
           "#EF553B",
           "#00cc96",
           "#ab63fa",
           "#FFA15A",
           "#19d3f3",
           "#FF6692",
           "#B6E880",
           "#FF97FF",
           "#FECB52"
          ],
          "font": {
           "color": "#2a3f5f"
          },
          "geo": {
           "bgcolor": "white",
           "lakecolor": "white",
           "landcolor": "#E5ECF6",
           "showlakes": true,
           "showland": true,
           "subunitcolor": "white"
          },
          "hoverlabel": {
           "align": "left"
          },
          "hovermode": "closest",
          "mapbox": {
           "style": "light"
          },
          "paper_bgcolor": "white",
          "plot_bgcolor": "#E5ECF6",
          "polar": {
           "angularaxis": {
            "gridcolor": "white",
            "linecolor": "white",
            "ticks": ""
           },
           "bgcolor": "#E5ECF6",
           "radialaxis": {
            "gridcolor": "white",
            "linecolor": "white",
            "ticks": ""
           }
          },
          "scene": {
           "xaxis": {
            "backgroundcolor": "#E5ECF6",
            "gridcolor": "white",
            "gridwidth": 2,
            "linecolor": "white",
            "showbackground": true,
            "ticks": "",
            "zerolinecolor": "white"
           },
           "yaxis": {
            "backgroundcolor": "#E5ECF6",
            "gridcolor": "white",
            "gridwidth": 2,
            "linecolor": "white",
            "showbackground": true,
            "ticks": "",
            "zerolinecolor": "white"
           },
           "zaxis": {
            "backgroundcolor": "#E5ECF6",
            "gridcolor": "white",
            "gridwidth": 2,
            "linecolor": "white",
            "showbackground": true,
            "ticks": "",
            "zerolinecolor": "white"
           }
          },
          "shapedefaults": {
           "line": {
            "color": "#2a3f5f"
           }
          },
          "ternary": {
           "aaxis": {
            "gridcolor": "white",
            "linecolor": "white",
            "ticks": ""
           },
           "baxis": {
            "gridcolor": "white",
            "linecolor": "white",
            "ticks": ""
           },
           "bgcolor": "#E5ECF6",
           "caxis": {
            "gridcolor": "white",
            "linecolor": "white",
            "ticks": ""
           }
          },
          "title": {
           "x": 0.05
          },
          "xaxis": {
           "automargin": true,
           "gridcolor": "white",
           "linecolor": "white",
           "ticks": "",
           "title": {
            "standoff": 15
           },
           "zerolinecolor": "white",
           "zerolinewidth": 2
          },
          "yaxis": {
           "automargin": true,
           "gridcolor": "white",
           "linecolor": "white",
           "ticks": "",
           "title": {
            "standoff": 15
           },
           "zerolinecolor": "white",
           "zerolinewidth": 2
          }
         }
        }
       }
      }
     },
     "metadata": {},
     "output_type": "display_data"
    }
   ],
   "source": [
    "# Calculate mean scores for each category and model\n",
    "# In the process, rename model types. no-streaming-original -> Sliding Window w/ Re-computation, streaming-original -> StreamingLLM, streaming-rag -> StreamingLLM w/ RAG\n",
    "means = {}\n",
    "for category in CATEGORIES:\n",
    "    category_lower = category.lower()\n",
    "    for model_type in ['no-streaming-original', 'streaming-original', 'streaming-rag']:\n",
    "        key = f'{category_lower}_bench.jsonl-{model_type}.txt'\n",
    "        if model_type == 'no-streaming-original':\n",
    "            model_type = 'Dense Attention'\n",
    "        elif model_type == 'streaming-original':\n",
    "            model_type = 'StreamingLLM'\n",
    "        elif model_type == 'streaming-rag':\n",
    "            model_type = 'StreamingRAG'\n",
    "        if key in scores:\n",
    "            if model_type not in means:\n",
    "                means[model_type] = {}\n",
    "            means[model_type][category] = sum(scores[key]) / len(scores[key])\n",
    "\n",
    "\n",
    "# Create DataFrame in the format needed for plotting\n",
    "plot_data = []\n",
    "for model, category_scores in means.items():\n",
    "    for category, score in category_scores.items():\n",
    "        plot_data.append({\n",
    "            'model': model,\n",
    "            'category': category,\n",
    "            'score': score\n",
    "        })\n",
    "df_score = pd.DataFrame(plot_data)\n",
    "\n",
    "# Create the polar plot\n",
    "fig = go.Figure()\n",
    "\n",
    "for model in df_score['model'].unique():\n",
    "    df_model = df_score[df_score['model'] == model]\n",
    "    # Add first point to end to close the loop\n",
    "    df_model = pd.concat([df_model, df_model.iloc[[0]]])\n",
    "    \n",
    "    fig.add_trace(go.Scatterpolar(\n",
    "        r=df_model['score'],\n",
    "        theta=df_model['category'],\n",
    "        name=model,\n",
    "        mode='lines+markers'\n",
    "    ))\n",
    "\n",
    "fig.update_layout(\n",
    "    polar=dict(\n",
    "        radialaxis=dict(\n",
    "            visible=True,\n",
    "            range=[0, 10]\n",
    "        )),\n",
    "    showlegend=True\n",
    ")\n",
    "\n",
    "fig.show()"
   ]
  }
 ],
 "metadata": {
  "kernelspec": {
   "display_name": "base",
   "language": "python",
   "name": "python3"
  },
  "language_info": {
   "codemirror_mode": {
    "name": "ipython",
    "version": 3
   },
   "file_extension": ".py",
   "mimetype": "text/x-python",
   "name": "python",
   "nbconvert_exporter": "python",
   "pygments_lexer": "ipython3",
   "version": "3.11.5"
  }
 },
 "nbformat": 4,
 "nbformat_minor": 2
}
